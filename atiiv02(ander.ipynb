{
  "nbformat": 4,
  "nbformat_minor": 0,
  "metadata": {
    "colab": {
      "provenance": [],
      "authorship_tag": "ABX9TyPaf0VpgbgQCsexMfYETshN",
      "include_colab_link": true
    },
    "kernelspec": {
      "name": "python3",
      "display_name": "Python 3"
    },
    "language_info": {
      "name": "python"
    }
  },
  "cells": [
    {
      "cell_type": "markdown",
      "metadata": {
        "id": "view-in-github",
        "colab_type": "text"
      },
      "source": [
        "<a href=\"https://colab.research.google.com/github/gustaviin/ativi_ander/blob/main/atiiv02(ander.ipynb\" target=\"_parent\"><img src=\"https://colab.research.google.com/assets/colab-badge.svg\" alt=\"Open In Colab\"/></a>"
      ]
    },
    {
      "cell_type": "markdown",
      "source": [
        "Exercicio 1"
      ],
      "metadata": {
        "id": "0ht-CK4M8kbE"
      }
    },
    {
      "cell_type": "code",
      "execution_count": null,
      "metadata": {
        "id": "O2sscOwC8cpJ"
      },
      "outputs": [],
      "source": [
        "num1 = float(input(\"Digite o primeiro número: \"))\n",
        "num2 = float(input(\"Digite o segundo número: \"))\n",
        "num3 = float(input(\"Digite o terceiro número: \"))\n",
        "\n",
        "if num1 > num2 + num3 or num2 > num1 + num3 or num3 > num1 + num2:\n",
        "    print(\"Pelo menos um dos números é maior que a soma dos outros dois!\")\n",
        "else:\n",
        "    print(\"Nenhum dos números é maior que a soma dos outros dois.\")"
      ]
    },
    {
      "cell_type": "markdown",
      "source": [
        "Exercicio 2"
      ],
      "metadata": {
        "id": "TTdXW8KC8owV"
      }
    },
    {
      "cell_type": "code",
      "source": [
        "\n",
        "nota1 = float(input(\"Digite a primeira nota (entre 0 e 100): \"))\n",
        "nota2 = float(input(\"Digite a segunda nota (entre 0 e 100): \"))\n",
        "\n",
        "soma_notas = nota1 + nota2\n",
        "\n",
        "if soma_notas >= 60 and nota1 >= 40 and nota2 >= 40:\n",
        "    print(\"O aluno passou!\")\n",
        "else:\n",
        "    print(\"O aluno não passou.\")"
      ],
      "metadata": {
        "id": "RX3gmY1U8kOn"
      },
      "execution_count": null,
      "outputs": []
    },
    {
      "cell_type": "markdown",
      "source": [
        "Exercicio 3"
      ],
      "metadata": {
        "id": "am8wPM__8sMz"
      }
    },
    {
      "cell_type": "code",
      "source": [
        "\n",
        "idade = int(input(\"Digite a idade da pessoa: \"))\n",
        "autorizacao_pais = input(\"A pessoa tem autorização dos pais? (sim/não): \")\n",
        "\n",
        "if idade >= 18 or autorizacao_pais == \"sim\":\n",
        "    print(\"A pessoa pode participar.\")\n",
        "else:\n",
        "    print(\"A pessoa não pode participar.\")\n",
        "Footer\n"
      ],
      "metadata": {
        "id": "b46JVJlL8s_b"
      },
      "execution_count": null,
      "outputs": []
    },
    {
      "cell_type": "markdown",
      "source": [
        "Exercicio 4"
      ],
      "metadata": {
        "id": "tDxcAsl98tLD"
      }
    },
    {
      "cell_type": "code",
      "source": [
        "\n",
        "numero = int(input(\"Digite um número inteiro: \"))\n",
        "\n",
        "if numero % 2 == 0:\n",
        "    print(\"O número é par.\")\n",
        "elif numero % 3 == 0:\n",
        "    print(\"O número é divisível por 3.\")\n",
        "else:\n",
        "    print(\"O número não é par e nem divisível por 3.\""
      ],
      "metadata": {
        "id": "phGaVPBX8tSc"
      },
      "execution_count": null,
      "outputs": []
    },
    {
      "cell_type": "markdown",
      "source": [
        "Exercicio 5\n",
        "\n"
      ],
      "metadata": {
        "id": "f1hXt1rX8tXE"
      }
    },
    {
      "cell_type": "code",
      "source": [
        "\n",
        "idade = int(input(\"Digite a idade da pessoa: \"))\n",
        "alfabetizada = input(\"A pessoa é alfabetizada? (sim/não): \")\n",
        "\n",
        "if idade > 25 and alfabetizada == \"sim\":\n",
        "    print(\"A pessoa é alfabetizada e tem mais de 25 anos.\")\n",
        "else:\n",
        "    print(\"A pessoa não atende aos critérios de alfabetização e idade.\")"
      ],
      "metadata": {
        "id": "f-Mif2Du8tbb"
      },
      "execution_count": null,
      "outputs": []
    },
    {
      "cell_type": "markdown",
      "source": [
        "Exercicio 6"
      ],
      "metadata": {
        "id": "9zV1EYS284kc"
      }
    },
    {
      "cell_type": "code",
      "source": [
        "\n",
        "idade = int(input(\"Digite sua idade: \"))\n",
        "categoria = input(\"Digite sua categoria (estudante, aposentado, etc.): \")\n",
        "dia_semana = input(\"Digite o dia da semana (segunda, terça, etc.): \")\n",
        "\n",
        "\n",
        "desconto = 0\n",
        "\n",
        "\n",
        "if idade >= 60:\n",
        "    desconto = 0.3\n",
        "elif categoria == \"estudante\" and (dia_semana == \"segunda\" or dia_semana == \"terça\"):\n",
        "    desconto = 0.2\n",
        "elif categoria == \"aposentado\":\n",
        "    desconto = 0.15\n",
        "elif categoria == \"professor\" and dia_semana == \"quarta\":\n",
        "    desconto = 0.25\n",
        "\n",
        "\n",
        "if desconto > 0:\n",
        "    print(\"Você tem direito a um desconto de {:.0%}.\".format(desconto))\n",
        "else:\n",
        "    print(\"Você não tem direito a nenhum desconto.\")\n",
        "Footer\n"
      ],
      "metadata": {
        "id": "LAvpmmbm85vb"
      },
      "execution_count": null,
      "outputs": []
    }
  ]
}